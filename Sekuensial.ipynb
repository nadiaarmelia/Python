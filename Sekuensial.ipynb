{
 "cells": [
  {
   "cell_type": "code",
   "execution_count": 1,
   "metadata": {},
   "outputs": [
    {
     "name": "stdout",
     "output_type": "stream",
     "text": [
      "30\n"
     ]
    }
   ],
   "source": [
    "A = 34\n",
    "B = 27\n",
    "C = 31\n",
    "D = A + (B-C)\n",
    "print(D)"
   ]
  },
  {
   "cell_type": "code",
   "execution_count": 2,
   "metadata": {},
   "outputs": [
    {
     "name": "stdout",
     "output_type": "stream",
     "text": [
      "Ketik Nilai Celcius= 70\n",
      "Celcius=  70.0\n",
      "Fahrenheit=  158.0\n",
      "Reamur=  56.0\n",
      "Kelvin=  343.0\n"
     ]
    }
   ],
   "source": [
    "Celcius = float(input(\"Ketik Nilai Celcius= \"))\n",
    "Reamur = 4/5*Celcius\n",
    "Fahrenheit = 9/5*Celcius+32\n",
    "Kelvin = 273+Celcius\n",
    "print(\"Celcius= \",Celcius)\n",
    "print(\"Fahrenheit= \",Fahrenheit)\n",
    "print(\"Reamur= \",Reamur)\n",
    "print(\"Kelvin= \",Kelvin)"
   ]
  },
  {
   "cell_type": "code",
   "execution_count": null,
   "metadata": {},
   "outputs": [],
   "source": []
  }
 ],
 "metadata": {
  "kernelspec": {
   "display_name": "Python 3",
   "language": "python",
   "name": "python3"
  },
  "language_info": {
   "codemirror_mode": {
    "name": "ipython",
    "version": 3
   },
   "file_extension": ".py",
   "mimetype": "text/x-python",
   "name": "python",
   "nbconvert_exporter": "python",
   "pygments_lexer": "ipython3",
   "version": "3.7.3"
  }
 },
 "nbformat": 4,
 "nbformat_minor": 2
}
