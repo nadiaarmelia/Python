{
 "cells": [
  {
   "cell_type": "code",
   "execution_count": 1,
   "metadata": {},
   "outputs": [
    {
     "name": "stdout",
     "output_type": "stream",
     "text": [
      "Celcius= 55\n",
      "Reamur=  44.0\n",
      "Fahrenheit=  131.0\n",
      "Kelvin=  328.0\n"
     ]
    }
   ],
   "source": [
    "def reamur(x):\n",
    "    print(\"Reamur= \",4/5*x)\n",
    "def fahrenheit(x):\n",
    "    print(\"Fahrenheit= \",9/5*x+32)\n",
    "def kelvin(x):\n",
    "    print(\"Kelvin= \",273+x)\n",
    "c=float(input(\"Celcius= \"))\n",
    "reamur(c)\n",
    "fahrenheit(c)\n",
    "kelvin(c)"
   ]
  },
  {
   "cell_type": "code",
   "execution_count": null,
   "metadata": {},
   "outputs": [],
   "source": []
  }
 ],
 "metadata": {
  "kernelspec": {
   "display_name": "Python 3",
   "language": "python",
   "name": "python3"
  },
  "language_info": {
   "codemirror_mode": {
    "name": "ipython",
    "version": 3
   },
   "file_extension": ".py",
   "mimetype": "text/x-python",
   "name": "python",
   "nbconvert_exporter": "python",
   "pygments_lexer": "ipython3",
   "version": "3.7.3"
  }
 },
 "nbformat": 4,
 "nbformat_minor": 2
}
