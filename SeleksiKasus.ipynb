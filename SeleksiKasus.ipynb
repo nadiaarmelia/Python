{
 "cells": [
  {
   "cell_type": "code",
   "execution_count": 1,
   "metadata": {},
   "outputs": [
    {
     "name": "stdout",
     "output_type": "stream",
     "text": [
      "Bilangan Pertama: 34\n",
      "Bilangan Kedua: 26\n",
      "Bilangan Ketiga: 78\n",
      "Bilangan Keempat: 57\n",
      "Bilangan Kelima: 43\n",
      "Bilangan terbesar adalah  78\n"
     ]
    }
   ],
   "source": [
    "#mencetak bilangan terbesar dari 5 bilangan\n",
    "B1=int(input(\"Bilangan Pertama: \"))\n",
    "B2=int(input(\"Bilangan Kedua: \"))\n",
    "B3=int(input(\"Bilangan Ketiga: \"))\n",
    "B4=int(input(\"Bilangan Keempat: \"))\n",
    "B5=int(input(\"Bilangan Kelima: \"))\n",
    "print(\"Bilangan terbesar adalah \",end=\" \")\n",
    "B=B1\n",
    "if B<B2:B=B2\n",
    "if B<B3:B=B3\n",
    "if B<B4:B=B4\n",
    "if B<B5:B=B5\n",
    "print(B)"
   ]
  },
  {
   "cell_type": "code",
   "execution_count": null,
   "metadata": {},
   "outputs": [],
   "source": []
  }
 ],
 "metadata": {
  "kernelspec": {
   "display_name": "Python 3",
   "language": "python",
   "name": "python3"
  },
  "language_info": {
   "codemirror_mode": {
    "name": "ipython",
    "version": 3
   },
   "file_extension": ".py",
   "mimetype": "text/x-python",
   "name": "python",
   "nbconvert_exporter": "python",
   "pygments_lexer": "ipython3",
   "version": "3.7.3"
  }
 },
 "nbformat": 4,
 "nbformat_minor": 2
}
