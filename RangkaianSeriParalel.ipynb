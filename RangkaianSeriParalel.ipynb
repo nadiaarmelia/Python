{
 "cells": [
  {
   "cell_type": "code",
   "execution_count": 5,
   "metadata": {},
   "outputs": [
    {
     "name": "stdout",
     "output_type": "stream",
     "text": [
      "R1: 10\n",
      "R2: 20\n",
      "R3: 30\n",
      "Seri: 60.0\n",
      "Paralel: 5.454545454545454\n"
     ]
    }
   ],
   "source": [
    "def seri (R1, R2, R3):\n",
    "    return R1+R2+R3\n",
    "def paralel (R1, R2, R3):\n",
    "    return 1/(1/R1+1/R2+1/R3)\n",
    "\n",
    "# Input.\n",
    "\n",
    "R1 = float(input('R1: '))\n",
    "R2 = float(input('R2: '))\n",
    "R3 = float(input('R3: '))\n",
    "\n",
    "print('Seri: ' + str(seri(R1, R2, R3)))\n",
    "print('Paralel: ' + str(paralel(R1, R2, R3)))"
   ]
  },
  {
   "cell_type": "code",
   "execution_count": null,
   "metadata": {},
   "outputs": [],
   "source": []
  }
 ],
 "metadata": {
  "kernelspec": {
   "display_name": "Python 3",
   "language": "python",
   "name": "python3"
  },
  "language_info": {
   "codemirror_mode": {
    "name": "ipython",
    "version": 3
   },
   "file_extension": ".py",
   "mimetype": "text/x-python",
   "name": "python",
   "nbconvert_exporter": "python",
   "pygments_lexer": "ipython3",
   "version": "3.7.3"
  }
 },
 "nbformat": 4,
 "nbformat_minor": 2
}
